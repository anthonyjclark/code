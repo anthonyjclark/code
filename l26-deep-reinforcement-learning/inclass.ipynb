{
 "cells": [
  {
   "cell_type": "code",
   "execution_count": 2,
   "metadata": {},
   "outputs": [],
   "source": [
    "from collections import namedtuple, deque\n",
    "from itertools import count\n",
    "import random\n",
    "\n",
    "import gym\n",
    "import matplotlib.pyplot as plt\n",
    "import numpy as np\n",
    "from PIL import Image\n",
    "\n",
    "import torch\n",
    "import torch.nn as nn\n",
    "import torch.nn.functional as F\n",
    "import torch.optim as optim\n",
    "import torchvision.transforms as T"
   ]
  },
  {
   "cell_type": "code",
   "execution_count": 3,
   "metadata": {},
   "outputs": [],
   "source": [
    "env = gym.make(\"CartPole-v0\").unwrapped"
   ]
  },
  {
   "cell_type": "code",
   "execution_count": 4,
   "metadata": {},
   "outputs": [
    {
     "name": "stdout",
     "output_type": "stream",
     "text": [
      "Starting episode 0\n",
      "Starting episode 1\n",
      "Starting episode 2\n",
      "Starting episode 3\n",
      "Starting episode 4\n",
      "Starting episode 5\n",
      "Starting episode 6\n",
      "Starting episode 7\n",
      "Starting episode 8\n",
      "Starting episode 9\n",
      "Starting episode 10\n",
      "Starting episode 11\n",
      "Starting episode 12\n",
      "Starting episode 13\n",
      "Starting episode 14\n",
      "Starting episode 15\n",
      "Starting episode 16\n",
      "Starting episode 17\n",
      "Starting episode 18\n",
      "Starting episode 19\n"
     ]
    }
   ],
   "source": [
    "num_episodes = 20\n",
    "\n",
    "for episode in range(num_episodes):\n",
    "\n",
    "    observation = env.reset()\n",
    "    \n",
    "    print(\"Starting episode\", episode)\n",
    "\n",
    "    for t in count():\n",
    "\n",
    "        env.render()\n",
    "\n",
    "        action = env.action_space.sample()\n",
    "\n",
    "        observation, reward, complete, info = env.step(action)\n",
    "\n",
    "        if complete:\n",
    "            break\n",
    "\n",
    "env.close()"
   ]
  },
  {
   "cell_type": "code",
   "execution_count": 5,
   "metadata": {},
   "outputs": [
    {
     "name": "stdout",
     "output_type": "stream",
     "text": [
      "(800, 1200, 3)\n"
     ]
    },
    {
     "data": {
      "text/plain": [
       "<matplotlib.image.AxesImage at 0x7ff7b0b14220>"
      ]
     },
     "execution_count": 5,
     "metadata": {},
     "output_type": "execute_result"
    },
    {
     "data": {
      "image/png": "[encoded data removed]",
      "text/plain": [
       "<Figure size 432x288 with 1 Axes>"
      ]
     },
     "metadata": {
      "needs_background": "light"
     },
     "output_type": "display_data"
    }
   ],
   "source": [
    "frame = env.render(mode=\"rgb_array\")\n",
    "env.close()\n",
    "\n",
    "print(frame.shape)\n",
    "\n",
    "plt.imshow(frame)"
   ]
  },
  {
   "cell_type": "code",
   "execution_count": 6,
   "metadata": {},
   "outputs": [
    {
     "data": {
      "text/plain": [
       "<matplotlib.image.AxesImage at 0x7ff7c0e18a00>"
      ]
     },
     "execution_count": 6,
     "metadata": {},
     "output_type": "execute_result"
    },
    {
     "data": {
      "image/png": "[encoded data removed]",
      "text/plain": [
       "<Figure size 432x288 with 1 Axes>"
      ]
     },
     "metadata": {
      "needs_background": "light"
     },
     "output_type": "display_data"
    }
   ],
   "source": [
    "fheight, fwidth, _ = frame.shape\n",
    "\n",
    "cheight_min = int(fheight * 0.4)\n",
    "cheight_max = int(fheight * 0.8)\n",
    "\n",
    "frame_cropped = frame[cheight_min:cheight_max, :, :]\n",
    "\n",
    "plt.imshow(frame_cropped)"
   ]
  },
  {
   "cell_type": "code",
   "execution_count": 7,
   "metadata": {},
   "outputs": [
    {
     "data": {
      "text/plain": [
       "<matplotlib.image.AxesImage at 0x7ff7c0ed6d90>"
      ]
     },
     "execution_count": 7,
     "metadata": {},
     "output_type": "execute_result"
    },
    {
     "data": {
      "image/png": "[encoded data removed]",
      "text/plain": [
       "<Figure size 432x288 with 1 Axes>"
      ]
     },
     "metadata": {
      "needs_background": "light"
     },
     "output_type": "display_data"
    }
   ],
   "source": [
    "cwidth = int(fwidth * 0.6)\n",
    "\n",
    "ewidth = env.x_threshold * 2\n",
    "width_scale = fwidth / ewidth\n",
    "\n",
    "epos = env.state[0]\n",
    "spos = int(epos * width_scale + fwidth / 2)\n",
    "spos\n",
    "\n",
    "cwidth_min = spos - cwidth // 2\n",
    "cwidth_max = spos + cwidth // 2\n",
    "\n",
    "frame_cropped = frame[cheight_min:cheight_max, cwidth_min:cwidth_max,:]\n",
    "\n",
    "plt.imshow(frame_cropped)"
   ]
  },
  {
   "cell_type": "code",
   "execution_count": 8,
   "metadata": {},
   "outputs": [
    {
     "data": {
      "text/plain": [
       "<matplotlib.image.AxesImage at 0x7ff780cfbac0>"
      ]
     },
     "execution_count": 8,
     "metadata": {},
     "output_type": "execute_result"
    },
    {
     "data": {
      "image/png": "[encoded data removed]",
      "text/plain": [
       "<Figure size 432x288 with 1 Axes>"
      ]
     },
     "metadata": {
      "needs_background": "light"
     },
     "output_type": "display_data"
    }
   ],
   "source": [
    "frame_cropped_float = frame_cropped / 255\n",
    "frame_cropped_float = torch.from_numpy(frame_cropped_float)\n",
    "plt.imshow(frame_cropped_float)"
   ]
  },
  {
   "cell_type": "code",
   "execution_count": 9,
   "metadata": {},
   "outputs": [
    {
     "data": {
      "text/plain": [
       "torch.Size([320, 720, 3])"
      ]
     },
     "execution_count": 9,
     "metadata": {},
     "output_type": "execute_result"
    }
   ],
   "source": [
    "frame_cropped_float.shape"
   ]
  },
  {
   "cell_type": "code",
   "execution_count": 10,
   "metadata": {},
   "outputs": [
    {
     "data": {
      "text/plain": [
       "<matplotlib.image.AxesImage at 0x7ff7b0b8d1f0>"
      ]
     },
     "execution_count": 10,
     "metadata": {},
     "output_type": "execute_result"
    },
    {
     "data": {
      "image/png": "[encoded data removed]",
      "text/plain": [
       "<Figure size 432x288 with 1 Axes>"
      ]
     },
     "metadata": {
      "needs_background": "light"
     },
     "output_type": "display_data"
    }
   ],
   "source": [
    "s = frame_cropped_float.permute(2, 0, 1)\n",
    "\n",
    "xform = T.Compose([T.ToPILImage(), T.Resize(40, interpolation=Image.CUBIC), T.ToTensor()])\n",
    "x = xform(s)\n",
    "plt.imshow(x.permute(1, 2, 0).numpy())"
   ]
  },
  {
   "cell_type": "code",
   "execution_count": 11,
   "metadata": {},
   "outputs": [
    {
     "data": {
      "text/plain": [
       "0.015625"
      ]
     },
     "execution_count": 11,
     "metadata": {},
     "output_type": "execute_result"
    }
   ],
   "source": [
    "(x.shape[0]*x.shape[1]*x.shape[2]) / (320 * 720 * 3)"
   ]
  },
  {
   "cell_type": "code",
   "execution_count": 12,
   "metadata": {},
   "outputs": [
    {
     "data": {
      "image/png": "[encoded data removed]",
      "text/plain": [
       "<Figure size 432x288 with 1 Axes>"
      ]
     },
     "metadata": {
      "needs_background": "light"
     },
     "output_type": "display_data"
    }
   ],
   "source": [
    "new_height = 40\n",
    "\n",
    "resize = T.Compose(\n",
    "    [T.ToPILImage(), T.Resize(new_height, interpolation=Image.CUBIC), T.ToTensor()]\n",
    ")\n",
    "\n",
    "\n",
    "def prepare_frame(frame):\n",
    "    fheight, fwidth, _ = frame.shape\n",
    "\n",
    "    cheight_min = int(fheight * 0.4)\n",
    "    cheight_max = int(fheight * 0.8)\n",
    "\n",
    "    cwidth = int(fwidth * 0.6)\n",
    "\n",
    "    ewidth = env.x_threshold * 2\n",
    "    width_scale = fwidth / ewidth\n",
    "\n",
    "    epos = env.state[0]\n",
    "    spos = int(epos * width_scale + fwidth / 2)\n",
    "\n",
    "    cwidth_min = spos - cwidth // 2\n",
    "    cwidth_max = spos + cwidth // 2\n",
    "\n",
    "    cframe = frame[cheight_min:cheight_max, cwidth_min:cwidth_max, :]\n",
    "    tframe = torch.from_numpy(cframe / 255).permute(2, 0, 1)\n",
    "    \n",
    "    return resize(tframe).unsqueeze(0)\n",
    "\n",
    "plt.imshow(prepare_frame(frame).squeeze().permute(1, 2, 0).numpy());"
   ]
  },
  {
   "cell_type": "code",
   "execution_count": 13,
   "metadata": {},
   "outputs": [
    {
     "data": {
      "text/plain": [
       "torch.Size([1, 3, 40, 90])"
      ]
     },
     "execution_count": 13,
     "metadata": {},
     "output_type": "execute_result"
    }
   ],
   "source": [
    "prepare_frame(frame).shape"
   ]
  },
  {
   "cell_type": "code",
   "execution_count": 14,
   "metadata": {},
   "outputs": [
    {
     "data": {
      "text/plain": [
       "(Discrete(2), 1)"
      ]
     },
     "execution_count": 14,
     "metadata": {},
     "output_type": "execute_result"
    }
   ],
   "source": [
    "env.action_space, env.action_space.sample()"
   ]
  },
  {
   "cell_type": "code",
   "execution_count": 15,
   "metadata": {},
   "outputs": [
    {
     "data": {
      "text/plain": [
       "<matplotlib.image.AxesImage at 0x7ff770ac4730>"
      ]
     },
     "execution_count": 15,
     "metadata": {},
     "output_type": "execute_result"
    },
    {
     "data": {
      "image/png": "[encoded data removed]",
      "text/plain": [
       "<Figure size 432x288 with 1 Axes>"
      ]
     },
     "metadata": {
      "needs_background": "light"
     },
     "output_type": "display_data"
    }
   ],
   "source": [
    "env.reset()\n",
    "frame1 = env.render(mode=\"rgb_array\")\n",
    "env.step(1)\n",
    "env.step(1)\n",
    "env.step(1)\n",
    "env.step(1)\n",
    "frame2 = env.render(mode=\"rgb_array\")\n",
    "env.close()\n",
    "\n",
    "pframe1 = prepare_frame(frame1)\n",
    "pframe2 = prepare_frame(frame2)\n",
    "\n",
    "state = pframe2 - pframe1 # aka observation\n",
    "state += state.min().abs()\n",
    "state /= state.max()\n",
    "\n",
    "plt.imshow(state.squeeze().permute(1, 2, 0).numpy())"
   ]
  },
  {
   "cell_type": "code",
   "execution_count": 16,
   "metadata": {},
   "outputs": [
    {
     "name": "stdout",
     "output_type": "stream",
     "text": [
      "Starting episode 0\n",
      "Starting episode 1\n",
      "Starting episode 2\n",
      "Starting episode 3\n"
     ]
    }
   ],
   "source": [
    "num_episodes = 4\n",
    "\n",
    "for episode in range(num_episodes):\n",
    "\n",
    "    env.reset()\n",
    "    prev_frame = prepare_frame(env.render(mode=\"rgb_array\"))\n",
    "    curr_frame = prev_frame\n",
    "    state = curr_frame - prev_frame\n",
    "    \n",
    "    print(\"Starting episode\", episode)\n",
    "\n",
    "    for t in count():\n",
    "\n",
    "        # How do we choose an action?\n",
    "#         action = ...\n",
    "\n",
    "#         _, reward, complete, _ = env.step(action)\n",
    "        \n",
    "        prev_frame = curr_frame\n",
    "        curr_frame = env.render(mode=\"rgb_array\")\n",
    "        \n",
    "        # How do we optimize?\n",
    "\n",
    "        if complete:\n",
    "            break\n",
    "\n",
    "env.close()"
   ]
  },
  {
   "cell_type": "code",
   "execution_count": 17,
   "metadata": {},
   "outputs": [],
   "source": [
    "def conv_output_size(size, kernel_size, stride):\n",
    "    return (size - (kernel_size - 1) - 1) // stride + 1\n",
    "\n",
    "\n",
    "class DQN(nn.Module):\n",
    "    def __init__(self, h, w, outputs):\n",
    "        super(DQN, self).__init__()\n",
    "\n",
    "        F = 5\n",
    "        S = 2\n",
    "\n",
    "        K0 = 3\n",
    "        K1 = 16\n",
    "        self.conv1 = nn.Conv2d(K0, K1, kernel_size=F, stride=S)\n",
    "        self.bn1 = nn.BatchNorm2d(K1)\n",
    "\n",
    "        h1 = conv_output_size(h, F, S)\n",
    "        w1 = conv_output_size(w, F, S)\n",
    "\n",
    "        K2 = 32\n",
    "        self.conv2 = nn.Conv2d(K1, K2, kernel_size=F, stride=S)\n",
    "        self.bn2 = nn.BatchNorm2d(K2)\n",
    "\n",
    "        h2 = conv_output_size(h1, F, S)\n",
    "        w2 = conv_output_size(w1, F, S)\n",
    "\n",
    "        K3 = 32\n",
    "        self.conv3 = nn.Conv2d(K2, K3, kernel_size=F, stride=S)\n",
    "        self.bn3 = nn.BatchNorm2d(K3)\n",
    "\n",
    "        h3 = conv_output_size(h2, F, S)\n",
    "        w3 = conv_output_size(w2, F, S)\n",
    "\n",
    "        linear_input_size = h3 * w3 * K3\n",
    "        self.head = nn.Linear(linear_input_size, outputs)\n",
    "\n",
    "    def forward(self, x):\n",
    "        x = F.relu(self.bn1(self.conv1(x)))\n",
    "        x = F.relu(self.bn2(self.conv2(x)))\n",
    "        x = F.relu(self.bn3(self.conv3(x)))\n",
    "        return self.head(x.view(x.size(0), -1))"
   ]
  },
  {
   "cell_type": "code",
   "execution_count": 18,
   "metadata": {},
   "outputs": [],
   "source": [
    "frame = prepare_frame(env.render(mode=\"rgb_array\"))\n",
    "env.close()\n",
    "_, _, fheight, fwidth = frame.shape\n",
    "\n",
    "num_actions = env.action_space.n\n",
    "\n",
    "policy = DQN(fheight, fwidth, num_actions)\n",
    "policy_stable = DQN(fheight, fwidth, num_actions)\n",
    "policy_stable.load_state_dict(policy.state_dict())\n",
    "policy_stable.eval()\n",
    "\n",
    "optimizer = optim.RMSprop(policy.parameters())\n",
    "criterion = nn.SmoothL1Loss()"
   ]
  },
  {
   "cell_type": "code",
   "execution_count": 19,
   "metadata": {},
   "outputs": [],
   "source": [
    "# ?nn.SmoothL1Loss"
   ]
  },
  {
   "cell_type": "code",
   "execution_count": 20,
   "metadata": {},
   "outputs": [],
   "source": [
    "BATCH_SIZE = 128\n",
    "GAMMA = 0.999\n",
    "EPS_START = 0.9\n",
    "EPS_END = 0.05\n",
    "EPS_DECAY = 200\n",
    "TARGET_UPDATE = 10"
   ]
  },
  {
   "cell_type": "code",
   "execution_count": 21,
   "metadata": {},
   "outputs": [],
   "source": [
    "def select_action(policy, state, step, num_actions):\n",
    "    eps_threshold = EPS_END + (EPS_START - EPS_END) * np.exp(-1.0 * step / EPS_DECAY)\n",
    "    step += 1\n",
    "    r = random.random()\n",
    "    if r > eps_threshold:\n",
    "#         print(\"Policy decided\")\n",
    "        with torch.no_grad():\n",
    "            return policy(state).max(1)[1].view(1, 1)\n",
    "    else:\n",
    "        return torch.tensor([[random.randrange(num_actions)]], dtype=torch.long)"
   ]
  },
  {
   "cell_type": "code",
   "execution_count": 22,
   "metadata": {},
   "outputs": [
    {
     "data": {
      "text/plain": [
       "tensor([[1]])"
      ]
     },
     "execution_count": 22,
     "metadata": {},
     "output_type": "execute_result"
    }
   ],
   "source": [
    "select_action(policy, state, 100, num_actions)"
   ]
  },
  {
   "cell_type": "code",
   "execution_count": 23,
   "metadata": {},
   "outputs": [],
   "source": [
    "?env.step"
   ]
  },
  {
   "cell_type": "code",
   "execution_count": 24,
   "metadata": {},
   "outputs": [
    {
     "data": {
      "text/plain": [
       "array([-0.0486185 , -0.20032081,  0.03964575,  0.29403677])"
      ]
     },
     "execution_count": 24,
     "metadata": {},
     "output_type": "execute_result"
    }
   ],
   "source": [
    "env.step(0)[0]"
   ]
  },
  {
   "cell_type": "code",
   "execution_count": 25,
   "metadata": {},
   "outputs": [
    {
     "data": {
      "text/plain": [
       "tensor([[-2.8413e-05,  2.3328e-02]], grad_fn=<AddmmBackward>)"
      ]
     },
     "execution_count": 25,
     "metadata": {},
     "output_type": "execute_result"
    }
   ],
   "source": [
    "policy(state)"
   ]
  },
  {
   "cell_type": "code",
   "execution_count": 26,
   "metadata": {},
   "outputs": [],
   "source": [
    "Transition = namedtuple(\"Transition\", (\"state\", \"action\", \"next_state\", \"reward\"))\n",
    "\n",
    "\n",
    "class ReplayMemory(object):\n",
    "    def __init__(self, capacity):\n",
    "        self.memory = deque([], maxlen=capacity)\n",
    "\n",
    "    def push(self, *args):\n",
    "        \"\"\"Save a transition\"\"\"\n",
    "        self.memory.append(Transition(*args))\n",
    "\n",
    "    def sample(self, batch_size):\n",
    "        return random.sample(self.memory, batch_size)\n",
    "\n",
    "    def __len__(self):\n",
    "        return len(self.memory)"
   ]
  },
  {
   "cell_type": "code",
   "execution_count": 27,
   "metadata": {},
   "outputs": [
    {
     "data": {
      "text/plain": [
       "(array([-0.05262491, -0.39598491,  0.04552648,  0.59895509]), 1.0, False, {})"
      ]
     },
     "execution_count": 27,
     "metadata": {},
     "output_type": "execute_result"
    }
   ],
   "source": [
    "env.step(0)"
   ]
  },
  {
   "cell_type": "code",
   "execution_count": 28,
   "metadata": {},
   "outputs": [
    {
     "data": {
      "text/plain": [
       "<_collections._tuplegetter at 0x7ff7b117c100>"
      ]
     },
     "execution_count": 28,
     "metadata": {},
     "output_type": "execute_result"
    }
   ],
   "source": [
    "Transition.state"
   ]
  },
  {
   "cell_type": "code",
   "execution_count": 29,
   "metadata": {},
   "outputs": [],
   "source": [
    "def optimize_model():\n",
    "    if len(memory) < BATCH_SIZE:\n",
    "        return\n",
    "\n",
    "    transitions = memory.sample(BATCH_SIZE)\n",
    "    batch = Transition(*zip(*transitions))\n",
    "\n",
    "    non_final_mask = torch.tensor(tuple(map(lambda s: s is not None,\n",
    "                                          batch.next_state)), dtype=torch.bool)\n",
    "\n",
    "    non_final_next_states = torch.cat([s for s in batch.next_state\n",
    "                                                if s is not None])\n",
    "    state_batch = torch.cat(batch.state)\n",
    "    action_batch = torch.cat(batch.action)\n",
    "    reward_batch = torch.cat(batch.reward)\n",
    "\n",
    "    state_action_values = policy(state_batch).gather(1, action_batch)\n",
    "\n",
    "    next_state_values = torch.zeros(BATCH_SIZE)\n",
    "    next_state_values[non_final_mask] = policy_stable(non_final_next_states).max(1)[0].detach()\n",
    "    expected_state_action_values = (next_state_values * GAMMA) + reward_batch\n",
    "    \n",
    "    loss = criterion(state_action_values, expected_state_action_values.unsqueeze(1))\n",
    "\n",
    "    optimizer.zero_grad()\n",
    "    loss.backward()\n",
    "    for param in policy.parameters():\n",
    "        param.grad.data.clamp_(-1, 1)\n",
    "    \n",
    "    optimizer.step()"
   ]
  },
  {
   "cell_type": "code",
   "execution_count": 30,
   "metadata": {},
   "outputs": [
    {
     "name": "stdout",
     "output_type": "stream",
     "text": [
      "Starting episode 0\n",
      "Starting episode 1\n",
      "Starting episode 2\n",
      "Starting episode 3\n",
      "Starting episode 4\n",
      "Starting episode 5\n",
      "Starting episode 6\n",
      "Starting episode 7\n",
      "Starting episode 8\n",
      "Starting episode 9\n",
      "Starting episode 10\n",
      "Starting episode 11\n",
      "Complete\n"
     ]
    }
   ],
   "source": [
    "num_episodes = 12\n",
    "step = 0\n",
    "\n",
    "memory = ReplayMemory(10000)\n",
    "\n",
    "for episode in range(num_episodes):\n",
    "    \n",
    "    env.reset()\n",
    "    prev_frame = prepare_frame(env.render(mode=\"rgb_array\"))\n",
    "    curr_frame = prev_frame\n",
    "    state = curr_frame - prev_frame\n",
    "    \n",
    "    print(\"Starting episode\", episode)\n",
    "    \n",
    "    for t in count():\n",
    "        \n",
    "        action = select_action(policy, state, step, num_actions)\n",
    "        \n",
    "        _, reward, complete, _ = env.step(action.item())\n",
    "        \n",
    "        reward = torch.tensor([reward])\n",
    "\n",
    "        # Observe new state\n",
    "        prev_frame = curr_frame\n",
    "        curr_frame = prepare_frame(env.render(mode=\"rgb_array\"))\n",
    "        \n",
    "        # Treat the final state differently\n",
    "        if not complete:\n",
    "            next_state = curr_frame - prev_frame\n",
    "        else:\n",
    "            next_state = None\n",
    "\n",
    "        # Store the transition in memory\n",
    "        memory.push(state, action, next_state, reward)\n",
    "\n",
    "        # Move to the next state\n",
    "        state = next_state\n",
    "\n",
    "        optimize_model()\n",
    "\n",
    "        if complete:\n",
    "            break\n",
    "\n",
    "    # Update the stable network, copying all weights and biases in DQN\n",
    "    if episode % TARGET_UPDATE == 0:\n",
    "        policy_stable.load_state_dict(policy.state_dict())\n",
    "\n",
    "print('Complete')\n",
    "env.close()"
   ]
  },
  {
   "cell_type": "code",
   "execution_count": null,
   "metadata": {},
   "outputs": [],
   "source": []
  },
  {
   "cell_type": "code",
   "execution_count": null,
   "metadata": {},
   "outputs": [],
   "source": []
  },
  {
   "cell_type": "code",
   "execution_count": null,
   "metadata": {},
   "outputs": [],
   "source": []
  },
  {
   "cell_type": "code",
   "execution_count": null,
   "metadata": {},
   "outputs": [],
   "source": []
  },
  {
   "cell_type": "code",
   "execution_count": null,
   "metadata": {},
   "outputs": [],
   "source": []
  },
  {
   "cell_type": "code",
   "execution_count": null,
   "metadata": {},
   "outputs": [],
   "source": []
  },
  {
   "cell_type": "code",
   "execution_count": null,
   "metadata": {},
   "outputs": [],
   "source": []
  },
  {
   "cell_type": "code",
   "execution_count": null,
   "metadata": {},
   "outputs": [],
   "source": []
  },
  {
   "cell_type": "code",
   "execution_count": null,
   "metadata": {},
   "outputs": [],
   "source": []
  },
  {
   "cell_type": "code",
   "execution_count": null,
   "metadata": {},
   "outputs": [],
   "source": []
  }
 ],
 "metadata": {
  "kernelspec": {
   "display_name": "Python 3",
   "language": "python",
   "name": "python3"
  },
  "language_info": {
   "codemirror_mode": {
    "name": "ipython",
    "version": 3
   },
   "file_extension": ".py",
   "mimetype": "text/x-python",
   "name": "python",
   "nbconvert_exporter": "python",
   "pygments_lexer": "ipython3",
   "version": "3.8.5"
  }
 },
 "nbformat": 4,
 "nbformat_minor": 4
}
